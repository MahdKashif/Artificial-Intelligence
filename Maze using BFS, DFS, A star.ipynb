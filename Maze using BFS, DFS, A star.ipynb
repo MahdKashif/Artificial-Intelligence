{
  "cells": [
    {
      "cell_type": "markdown",
      "metadata": {
        "id": "C8hmwZb0fXI6"
      },
      "source": [
        "**PART 1**"
      ]
    },
    {
      "cell_type": "code",
      "execution_count": null,
      "metadata": {
        "colab": {
          "base_uri": "https://localhost:8080/"
        },
        "id": "brN1kQYYTi3A",
        "outputId": "f140ed8b-795c-4156-da69-2826c24c36c7"
      },
      "outputs": [
        {
          "output_type": "execute_result",
          "data": {
            "text/plain": [
              "[['S', '0', '0', '0', '1', '0', '0', '0', '0', '0'],\n",
              " ['1', '1', '0', '1', '0', '1', '1', '1', '1', '1'],\n",
              " ['0', '1', '0', '1', '0', '0', '0', '0', '0', '1'],\n",
              " ['1', '1', '0', '1', '0', '1', '1', '1', '0', '1'],\n",
              " ['0', '1', '0', '0', '0', '0', '0', '1', '0', '0'],\n",
              " ['0', '1', '1', '1', '0', '1', '1', '1', '1', '1'],\n",
              " ['0', '0', '0', '1', '0', '0', '0', '0', '0', '1'],\n",
              " ['1', '1', '1', '1', '0', '1', '1', '1', '0', '1'],\n",
              " ['0', '0', '0', '0', '0', '1', '0', '0', '0', '0'],\n",
              " ['0', '1', '1', '1', '1', '1', '0', '1', '1', 'G']]"
            ]
          },
          "metadata": {},
          "execution_count": 1
        }
      ],
      "source": [
        "import numpy as np\n",
        "import plotly.graph_objs as go\n",
        "import heapq\n",
        "from collections import deque\n",
        "maze=[]\n",
        "with open(\"/content/aimaze.txt\",\"r\") as file:   #opening the text file\n",
        "  for line in file:\n",
        "    maze.append(line.split())  #splits a string into a list\n",
        "\n",
        "maze"
      ]
    },
    {
      "cell_type": "code",
      "execution_count": null,
      "metadata": {
        "id": "pVlUzuYCTqTz"
      },
      "outputs": [],
      "source": [
        "# Define starting and goal points\n",
        "start = (0, 0)\n",
        "goal = (9, 9)"
      ]
    },
    {
      "cell_type": "code",
      "execution_count": null,
      "metadata": {
        "id": "T-_yOhywUFB6"
      },
      "outputs": [],
      "source": [
        "# Helper function to get neighboring nodes\n",
        "def get_neighbors(maze, node):\n",
        "    directions = [(0, 1), (0, -1), (1, 0), (-1, 0)]    #a right,left,down,up\n",
        "    neighbors = []\n",
        "    for direction in directions: # returns a list of neighboring nodes that can be reached from the given node in the maze.\n",
        "        row, col = node[0] + direction[0], node[1] + direction[1]  \n",
        "        if row >= 0 and col >= 0 and row < len(maze) and col < len(maze[0]) and maze[row][col] != 1:  \n",
        "            neighbors.append((row, col))\n",
        "    return neighbors  # the function returns the neighbors list, which contains all the valid neighboring nodes for the given node in the maze"
      ]
    },
    {
      "cell_type": "code",
      "execution_count": null,
      "metadata": {
        "id": "QdOqphETUFKE"
      },
      "outputs": [],
      "source": [
        "#DFS\n",
        "def dfs_solver(maze):\n",
        "    visited = set()\n",
        "    path = []\n",
        "    stack = [(0, 0)]     #Will be implemented using LIFO\n",
        "   \n",
        "    while stack:\n",
        "        x, y = stack.pop() #the function pops the top element of the stack which is a tuple of x and y coordinates and assigns them to the variables x and y.\n",
        "        if (x, y) not in visited:  \n",
        "            visited.add((x, y))\n",
        "            path.append((x, y))  #adds element at end of list\n",
        "           \n",
        "            if maze[x][y] == 'G':  #destination\n",
        "                return path\n",
        "           \n",
        "            if x > 0 and (x-1, y) not in visited and maze[x-1][y] != '1':   #check for neighbours\n",
        "                stack.append((x-1, y)) #the function checks the neighboring cells of the current position and if any of the neighboring cells is a valid move (not a wall and not already visited), it is added to the stack.\n",
        "            if y > 0 and (x, y-1) not in visited and maze[x][y-1] != '1':\n",
        "                stack.append((x, y-1))\n",
        "            if x < len(maze)-1 and (x+1, y) not in visited and maze[x+1][y] != '1':\n",
        "                stack.append((x+1, y))\n",
        "            if y < len(maze[0])-1 and (x, y+1) not in visited and maze[x][y+1] != '1':\n",
        "                stack.append((x, y+1))\n",
        "   \n",
        "    return -1\n"
      ]
    },
    {
      "cell_type": "code",
      "execution_count": null,
      "metadata": {
        "id": "acJE42FuUNta"
      },
      "outputs": [],
      "source": [
        "# BFS algorithm\n",
        "def bfs_solver(maze):\n",
        "    visited = set()\n",
        "    path = []\n",
        "    queue = deque([(0, 0)])   #will be implemented in FIFO manner\n",
        "   \n",
        "    while queue:\n",
        "        x, y = queue.popleft()   # to remove and return the first element from a deque object\n",
        "        if (x, y) not in visited:\n",
        "            visited.add((x, y))\n",
        "            path.append((x, y))\n",
        "           \n",
        "            if maze[x][y] == 'G':   #destination\n",
        "                return path\n",
        "           \n",
        "            if x > 0 and (x-1, y) not in visited and maze[x-1][y] != '1':\n",
        "                queue.append((x-1, y))\n",
        "            if y > 0 and (x, y-1) not in visited and maze[x][y-1] != '1':\n",
        "                queue.append((x, y-1))\n",
        "            if x < len(maze)-1 and (x+1, y) not in visited and maze[x+1][y] != '1':\n",
        "                queue.append((x+1, y))\n",
        "            if y < len(maze[0])-1 and (x, y+1) not in visited and maze[x][y+1] != '1':\n",
        "                queue.append((x, y+1))\n",
        "   \n",
        "    return -1"
      ]
    },
    {
      "cell_type": "markdown",
      "metadata": {
        "id": "-_WqIvUhfSb_"
      },
      "source": [
        "**PART 2**"
      ]
    },
    {
      "cell_type": "code",
      "execution_count": null,
      "metadata": {
        "colab": {
          "base_uri": "https://localhost:8080/"
        },
        "id": "vRD7cxFIX7Dn",
        "outputId": "8d9b0ef2-c466-4ff1-8e72-26cf88b6e000"
      },
      "outputs": [
        {
          "output_type": "execute_result",
          "data": {
            "text/plain": [
              "[['S', '0', '0', '0', '0', '0', '0', '0', '0', '1'],\n",
              " ['1', '1', '0', '1', '0', '1', '1', '1', '1', '1'],\n",
              " ['0', '1', '0', '1', '0', '0', '0', '0', '0', '1'],\n",
              " ['1', '1', '0', '1', '0', '1', '1', '1', '0', '1'],\n",
              " ['0', '1', '0', '1', '0', '0', '0', '1', '0', '0'],\n",
              " ['0', '1', '2', '0', '0', '1', '1', '1', '1', '1'],\n",
              " ['0', '0', '0', '0', '0', '0', '0', '0', '0', '1'],\n",
              " ['1', '1', '1', '1', '0', '1', '1', '1', '0', '1'],\n",
              " ['0', '0', '0', '0', '0', '1', '0', '0', '0', '1'],\n",
              " ['0', '1', '1', '1', '1', '1', '0', '1', '0', 'G']]"
            ]
          },
          "metadata": {},
          "execution_count": 6
        }
      ],
      "source": [
        "maze1=[]\n",
        "with open(\"/content/astarmaze.txt\",\"r\") as file:    #opening text file for part2\n",
        "  for line in file:\n",
        "    maze1.append(line.split())\n",
        "\n",
        "maze1"
      ]
    },
    {
      "cell_type": "code",
      "execution_count": null,
      "metadata": {
        "id": "zW_11Gt3UQOZ"
      },
      "outputs": [],
      "source": [
        "# A* algorithm\n",
        "\n",
        "import heapq   #will implement it using priority queue( heap) \n",
        "\n",
        "def xy(point1, point2):\n",
        "    return abs(point1[0] - point2[0]) + abs(point1[1] - point2[1])  #The xy function takes in two positions and returns the Manhattan distance between them\n",
        "\n",
        "def a_star_solver(maze1, start, goal):\n",
        "    open_list = [(0, start)] #initializes the open_list as a heap priority queue with a tuple containing the total priority cost and the start position\n",
        "    came_from = {} #to keep track of the path \n",
        "    cost_so_far = {start: 0} #cost from the start position to each position.\n",
        "\n",
        "    while open_list:\n",
        "        current = heapq.heappop(open_list)[1]  #the function pops the position with the lowest total priority cost from the open_list heap queue, which is the current position\n",
        "\n",
        "        if current == goal:\n",
        "            break\n",
        "\n",
        "        for neighbor in get_neighbors(maze1,current):\n",
        "            new_cost = cost_so_far[current] + 1 #calculates its new cost as the cost from the start position to the current position plus 1.\n",
        "            if neighbor not in cost_so_far or new_cost < cost_so_far[neighbor]:\n",
        "                cost_so_far[neighbor] = new_cost #calculates its priority cost as the new cost plus the estimated cost \n",
        "                priority = new_cost + xy(goal, neighbor)\n",
        "                heapq.heappush(open_list, (priority, neighbor))\n",
        "                came_from[neighbor] = current\n",
        "\n",
        "    path = [] #he function constructs the path by starting from the goal position and following the path back through the came_from dictionary until the start position is reached. \n",
        "    current = goal\n",
        "    while current != start:\n",
        "        path.append(current)\n",
        "        current = came_from[current]\n",
        "    path.append(start)\n",
        "    path.reverse()  #The path is then reversed and returned.\n",
        "\n",
        "    return path\n",
        "\n",
        "\n"
      ]
    },
    {
      "cell_type": "code",
      "execution_count": null,
      "metadata": {
        "colab": {
          "base_uri": "https://localhost:8080/"
        },
        "id": "UqDAlefZUUUB",
        "outputId": "dda5812b-3cbd-4595-af42-c49c7eaa8ded"
      },
      "outputs": [
        {
          "output_type": "execute_result",
          "data": {
            "text/plain": [
              "[(0, 0),\n",
              " (0, 1),\n",
              " (0, 2),\n",
              " (0, 3),\n",
              " (1, 2),\n",
              " (2, 2),\n",
              " (3, 2),\n",
              " (4, 2),\n",
              " (4, 3),\n",
              " (4, 4),\n",
              " (4, 5),\n",
              " (4, 6),\n",
              " (5, 4),\n",
              " (6, 4),\n",
              " (6, 5),\n",
              " (6, 6),\n",
              " (6, 7),\n",
              " (6, 8),\n",
              " (7, 8),\n",
              " (8, 8),\n",
              " (8, 9),\n",
              " (9, 9)]"
            ]
          },
          "metadata": {},
          "execution_count": 8
        }
      ],
      "source": [
        "dfs_path = dfs_solver(maze)\n",
        "bfs_path = bfs_solver(maze)\n",
        "astar_path = a_star_solver(maze1, start, goal)\n",
        "\n",
        "dfs_path"
      ]
    },
    {
      "cell_type": "code",
      "execution_count": null,
      "metadata": {
        "colab": {
          "base_uri": "https://localhost:8080/"
        },
        "id": "8Uj3uWdSUXNA",
        "outputId": "6c184acb-03d2-4a72-fef2-c3b92a1387c1"
      },
      "outputs": [
        {
          "output_type": "execute_result",
          "data": {
            "text/plain": [
              "[(0, 0),\n",
              " (0, 1),\n",
              " (0, 2),\n",
              " (1, 2),\n",
              " (0, 3),\n",
              " (2, 2),\n",
              " (3, 2),\n",
              " (4, 2),\n",
              " (4, 3),\n",
              " (4, 4),\n",
              " (3, 4),\n",
              " (5, 4),\n",
              " (4, 5),\n",
              " (2, 4),\n",
              " (6, 4),\n",
              " (4, 6),\n",
              " (1, 4),\n",
              " (2, 5),\n",
              " (7, 4),\n",
              " (6, 5),\n",
              " (2, 6),\n",
              " (8, 4),\n",
              " (6, 6),\n",
              " (2, 7),\n",
              " (8, 3),\n",
              " (6, 7),\n",
              " (2, 8),\n",
              " (8, 2),\n",
              " (6, 8),\n",
              " (3, 8),\n",
              " (8, 1),\n",
              " (7, 8),\n",
              " (4, 8),\n",
              " (8, 0),\n",
              " (8, 8),\n",
              " (4, 9),\n",
              " (9, 0),\n",
              " (8, 7),\n",
              " (8, 9),\n",
              " (8, 6),\n",
              " (9, 9)]"
            ]
          },
          "metadata": {},
          "execution_count": 9
        }
      ],
      "source": [
        "bfs_path\n",
        "    "
      ]
    },
    {
      "cell_type": "code",
      "execution_count": null,
      "metadata": {
        "colab": {
          "base_uri": "https://localhost:8080/"
        },
        "id": "eWblu97gVGwR",
        "outputId": "aac610e3-4767-42f6-eae1-42db12bf5dcd"
      },
      "outputs": [
        {
          "output_type": "execute_result",
          "data": {
            "text/plain": [
              "[(0, 0),\n",
              " (0, 1),\n",
              " (0, 2),\n",
              " (0, 3),\n",
              " (0, 4),\n",
              " (0, 5),\n",
              " (0, 6),\n",
              " (0, 7),\n",
              " (0, 8),\n",
              " (0, 9),\n",
              " (1, 9),\n",
              " (2, 9),\n",
              " (3, 9),\n",
              " (4, 9),\n",
              " (5, 9),\n",
              " (6, 9),\n",
              " (7, 9),\n",
              " (8, 9),\n",
              " (9, 9)]"
            ]
          },
          "metadata": {},
          "execution_count": 10
        }
      ],
      "source": [
        "astar_path"
      ]
    },
    {
      "cell_type": "code",
      "execution_count": null,
      "metadata": {
        "id": "xygvQ3VZvWd5"
      },
      "outputs": [],
      "source": []
    }
  ],
  "metadata": {
    "colab": {
      "provenance": []
    },
    "kernelspec": {
      "display_name": "base",
      "language": "python",
      "name": "python3"
    },
    "language_info": {
      "codemirror_mode": {
        "name": "ipython",
        "version": 3
      },
      "file_extension": ".py",
      "mimetype": "text/x-python",
      "name": "python",
      "nbconvert_exporter": "python",
      "pygments_lexer": "ipython3",
      "version": "3.9.7"
    },
    "vscode": {
      "interpreter": {
        "hash": "c740ea5def09f529fca43e393decf6813c4c94f46b1946a67c79136a2ec35a9e"
      }
    }
  },
  "nbformat": 4,
  "nbformat_minor": 0
}