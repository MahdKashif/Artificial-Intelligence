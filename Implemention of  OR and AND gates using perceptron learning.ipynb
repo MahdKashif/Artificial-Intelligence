{
  "nbformat": 4,
  "nbformat_minor": 0,
  "metadata": {
    "colab": {
      "provenance": []
    },
    "kernelspec": {
      "name": "python3",
      "display_name": "Python 3"
    },
    "language_info": {
      "name": "python"
    }
  },
  "cells": [
    {
      "cell_type": "code",
      "execution_count": null,
      "metadata": {
        "colab": {
          "base_uri": "https://localhost:8080/"
        },
        "id": "XAV9wGWM4maZ",
        "outputId": "f6b8b7da-d7fc-4b64-c384-b9ffe3121c43"
      },
      "outputs": [
        {
          "output_type": "stream",
          "name": "stdout",
          "text": [
            "OR Gate:\n",
            "Input: [0 0], Output: 0\n",
            "Input: [0 1], Output: 1\n",
            "Input: [1 0], Output: 1\n",
            "Input: [1 1], Output: 1\n",
            "\n",
            "AND Gate:\n",
            "Input: [0 0], Output: 0\n",
            "Input: [0 1], Output: 0\n",
            "Input: [1 0], Output: 0\n",
            "Input: [1 1], Output: 1\n"
          ]
        }
      ],
      "source": [
        "import numpy as np\n",
        "\n",
        "class Perceptron:\n",
        "    def __init__(self, input_size, activation='step', lr=1, epochs=100):\n",
        "        self.W = np.zeros(input_size + 1)\n",
        "        self.lr = lr\n",
        "        self.epochs = epochs\n",
        "        self.activation_func = self.step if activation == 'step' else self.activation\n",
        "\n",
        "    def activation(self, x):\n",
        "        return 1 / (1 + np.exp(-x))\n",
        "\n",
        "    def step(self, x):\n",
        "        return 1 if x >= 0 else 0\n",
        "\n",
        "    def predict(self, x):\n",
        "        x = np.insert(x, 0, 1)\n",
        "        z = self.W.T.dot(x)\n",
        "        a = self.activation_func(z)\n",
        "        return a\n",
        "\n",
        "    def train(self, X, d):\n",
        "        for _ in range(self.epochs):\n",
        "            for i in range(d.shape[0]):\n",
        "                y = self.predict(X[i])\n",
        "                e = d[i] - y\n",
        "                self.W = self.W + self.lr * e * np.insert(X[i], 0, 1)\n",
        "\n",
        "# OR gate training data\n",
        "X_or = np.array([[0, 0], [0, 1], [1, 0], [1, 1]])\n",
        "d_or = np.array([0, 1, 1, 1])\n",
        "\n",
        "# AND gate training data\n",
        "X_and = np.array([[0, 0], [0, 1], [1, 0], [1, 1]])\n",
        "d_and = np.array([0, 0, 0, 1])\n",
        "\n",
        "# Create perceptrons for OR and AND gates\n",
        "perceptron_or = Perceptron(input_size=2, activation='step')\n",
        "perceptron_and = Perceptron(input_size=2, activation='step')\n",
        "\n",
        "# Train perceptrons\n",
        "perceptron_or.train(X_or, d_or)\n",
        "perceptron_and.train(X_and, d_and)\n",
        "\n",
        "# Test OR and AND gates\n",
        "print(\"OR Gate:\")\n",
        "for i in range(X_or.shape[0]):\n",
        "    print(f\"Input: {X_or[i]}, Output: {perceptron_or.predict(X_or[i])}\")\n",
        "\n",
        "print(\"\\nAND Gate:\")\n",
        "for i in range(X_and.shape[0]):\n",
        "    print(f\"Input: {X_and[i]}, Output: {perceptron_and.predict(X_and[i])}\")\n"
      ]
    }
  ]
}